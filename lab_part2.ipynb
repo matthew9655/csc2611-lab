{
 "cells": [
  {
   "cell_type": "code",
   "execution_count": 64,
   "metadata": {},
   "outputs": [],
   "source": [
    "#load the embeddings\n",
    "import pickle\n",
    "import numpy as np\n",
    "from sklearn import metrics\n",
    "import operator\n",
    "from sklearn.neighbors import NearestNeighbors\n",
    "from sklearn.cluster import KMeans\n",
    "from scipy.stats import pearsonr\n",
    "import pandas as pd\n",
    "\n",
    "with open('embeddings/data.pkl', 'rb') as f:\n",
    "    data = pickle.load(f)\n",
    "\n",
    "words = data['w']\n",
    "embeddings = data['E']"
   ]
  },
  {
   "cell_type": "code",
   "execution_count": 65,
   "metadata": {},
   "outputs": [],
   "source": [
    "def cosine_sim(v1, v2):\n",
    "    return metrics.pairwise.cosine_similarity(v1.reshape(1, -1), v2.reshape(1, -1))[0][0]"
   ]
  },
  {
   "cell_type": "code",
   "execution_count": 81,
   "metadata": {},
   "outputs": [],
   "source": [
    "def cosine_distance_func(v1, v2):\n",
    "    return 1 - cosine_sim(v1, v2)"
   ]
  },
  {
   "cell_type": "code",
   "execution_count": 66,
   "metadata": {},
   "outputs": [],
   "source": [
    "embeddings = np.asarray(embeddings)\n",
    "embeddings.shape\n",
    "sf_embeddings = np.zeros((2000, 2, 300))\n",
    "\n",
    "for i in range(2000):\n",
    "    sf_embeddings[i, 0, :] = embeddings[i, 0, :]\n",
    "    sf_embeddings[i, 1, :] = embeddings[i, -1, :]\n"
   ]
  },
  {
   "cell_type": "code",
   "execution_count": 67,
   "metadata": {},
   "outputs": [
    {
     "name": "stdout",
     "output_type": "stream",
     "text": [
      "[('techniques', 1.0), ('skills', 1.0), ('mcgraw', 1.0), ('ml', 1.0), ('programs', 0.9908060408371938), ('objectives', 0.9777930257849913), ('computer', 0.9612410643483436), ('radio', 0.9052701147159458), ('sector', 0.9006836366602485), ('goals', 0.8451478071876328), ('approach', 0.8398605922816098), ('van', 0.8367483908002056), ('shri', 0.8244319851175983), ('media', 0.8125349168703302), ('impact', 0.8000341939038889), ('perspective', 0.7931199949661136), ('patterns', 0.7823269040416171), ('berkeley', 0.7779084933889082), ('shift', 0.776931638140915), ('film', 0.775918934819861)]\n",
      "[('miles', 0.3257129148141351), ('payment', 0.3227135807934537), ('door', 0.3222822738775527), ('evening', 0.32186251996765325), ('week', 0.31992764436258925), ('feet', 0.31866460292824705), ('september', 0.31786901281959445), ('god', 0.315084508297378), ('december', 0.31373757998712093), ('daughter', 0.311677059890762), ('months', 0.30972055852261215), ('century', 0.30730617145950123), ('january', 0.30179555011777626), ('increase', 0.30143007605515704), ('october', 0.2971440393982768), ('years', 0.2907269356601363), ('february', 0.28636454155874513), ('november', 0.28257345338302986), ('june', 0.26117633777733973), ('april', 0.2352065949847364)]\n"
     ]
    }
   ],
   "source": [
    "#cosine distances\n",
    "cosine_dists = []\n",
    "for i, start_final_embed in enumerate(sf_embeddings):\n",
    "    cs = 1 - cosine_sim(start_final_embed[0], start_final_embed[1])\n",
    "    cosine_dists.append((words[i], cs))\n",
    "\n",
    "cosine_dists = sorted(cosine_dists, key=operator.itemgetter(1), reverse=True)\n",
    "\n",
    "most_change = cosine_dists[:20]\n",
    "least_change = cosine_dists[-20:]\n",
    "\n",
    "print(most_change)\n",
    "print(least_change)\n",
    "\n",
    "cosine_reorder = np.zeros((2000, 3000))\n",
    "\n",
    "for i, (word, score) in enumerate(cosine_dists):\n",
    "    cosine_reorder[i] = np.asarray(embeddings[words.index(word)]).reshape(3000)"
   ]
  },
  {
   "cell_type": "code",
   "execution_count": 85,
   "metadata": {},
   "outputs": [],
   "source": [
    "def local_neighbourhood_dist(v1, v2, neighbours, flattened_embeddings):\n",
    "    start_distances, start_indexes = neighbours.kneighbors(v1.reshape(1, -1))\n",
    "    final_distances, final_indexes = neighbours.kneighbors(v2.reshape(1, -1))\n",
    "\n",
    "    union_indexes = np.union1d(start_indexes, final_indexes)\n",
    "\n",
    "    start_cos_sim = []\n",
    "    final_cos_sim = []\n",
    "\n",
    "    for uidx in union_indexes:\n",
    "        start_cos_sim.append(cosine_sim(v1, flattened_embeddings[uidx]))\n",
    "        final_cos_sim.append(cosine_sim(v2, flattened_embeddings[uidx]))\n",
    "\n",
    "\n",
    "    local_neighbourhood = 1 - cosine_sim(np.asarray(start_cos_sim), np.asarray(final_cos_sim))\n",
    "    \n",
    "    return local_neighbourhood\n"
   ]
  },
  {
   "cell_type": "code",
   "execution_count": 86,
   "metadata": {},
   "outputs": [
    {
     "name": "stdout",
     "output_type": "stream",
     "text": [
      "[('techniques', 1.0), ('skills', 1.0), ('mcgraw', 1.0), ('ml', 1.0), ('objectives', 0.9413197713847011), ('computer', 0.8959350693151715), ('programs', 0.8608415206215172), ('radio', 0.6738930578524192), ('sector', 0.6626955971850855), ('goals', 0.48456887754237843), ('approach', 0.44565019282953944), ('impact', 0.4211100020056966), ('patterns', 0.41774150548750544), ('media', 0.4145756213620895), ('van', 0.3978071646773619), ('assessment', 0.3954462168768038), ('shri', 0.3838737925671062), ('perspective', 0.3620905759443538), ('film', 0.35486744846132945), ('berkeley', 0.34825792582467496)]\n",
      "[('wife', 0.022937520233537345), ('door', 0.022864107747942675), ('december', 0.02282824877104883), ('miles', 0.022690694989198956), ('october', 0.022682100275372763), ('coast', 0.02259643285059465), ('church', 0.022255000210929632), ('months', 0.022029446057825197), ('february', 0.021841085662237747), ('january', 0.021540523644693277), ('daughter', 0.020648232529298705), ('god', 0.019999184115745416), ('november', 0.019920193503916273), ('june', 0.01960379987903549), ('evening', 0.01946788947722977), ('husband', 0.01935093910028951), ('century', 0.01901931972615878), ('increase', 0.018985793822640096), ('years', 0.017917641832103426), ('april', 0.01583977463097641)]\n"
     ]
    }
   ],
   "source": [
    "# local neighbourhood distance\n",
    "flattened_embeddings = embeddings.reshape(-1, embeddings.shape[-1])\n",
    "k = 8\n",
    "\n",
    "neighbours = NearestNeighbors(n_neighbors=k, metric='cosine', algorithm='brute').fit(flattened_embeddings)\n",
    "local_neighbourhood_dists = []\n",
    "for i, start_final_embed in enumerate(sf_embeddings):\n",
    "    lnd = local_neighbourhood_dist(start_final_embed[0], start_final_embed[1], neighbours, flattened_embeddings)\n",
    "    local_neighbourhood_dists.append((words[i], lnd))\n",
    "    \n",
    "local_neighbourhood_dists = sorted(local_neighbourhood_dists, key=operator.itemgetter(1), reverse=True)\n",
    "\n",
    "most_change = local_neighbourhood_dists[:20]\n",
    "least_change = local_neighbourhood_dists[-20:]\n",
    "\n",
    "print(most_change)\n",
    "print(least_change)\n",
    "\n",
    "lnd_reorder = np.zeros((2000, 3000))\n",
    "\n",
    "for i, (word, score) in enumerate(local_neighbourhood_dists):\n",
    "    lnd_reorder[i] = np.asarray(embeddings[words.index(word)]).reshape(3000)"
   ]
  },
  {
   "cell_type": "code",
   "execution_count": 70,
   "metadata": {},
   "outputs": [],
   "source": [
    "def normalize(a):\n",
    "\ta_oo = a - np.real(a).min()\n",
    "\treturn a_oo/np.abs(a_oo).max()\n"
   ]
  },
  {
   "cell_type": "code",
   "execution_count": 71,
   "metadata": {},
   "outputs": [],
   "source": [
    "def euclidean_dist(v1, v2):\n",
    "    return np.linalg.norm(v1 - v2)"
   ]
  },
  {
   "cell_type": "code",
   "execution_count": 72,
   "metadata": {},
   "outputs": [
    {
     "name": "stdout",
     "output_type": "stream",
     "text": [
      "[('programs', 1.0), ('objectives', 0.9871510890202615), ('computer', 0.9706836769649055), ('radio', 0.9139212621475846), ('sector', 0.9091931147030355), ('goals', 0.8509570909131131), ('approach', 0.8453143369289917), ('van', 0.8419845484128958), ('shri', 0.8287459128462534), ('media', 0.8158637873836437), ('impact', 0.8022260011674353), ('perspective', 0.7946371044536107), ('patterns', 0.7827243784729944), ('berkeley', 0.7778239268895575), ('shift', 0.7767386213541857), ('film', 0.7756127673484814), ('assessment', 0.7669141337216147), ('stanford', 0.7662011512401127), ('challenge', 0.7650971566362096), ('therapy', 0.7587435636826948)]\n",
      "[('miles', 0.16796571480805406), ('payment', 0.16280558921256819), ('door', 0.16206158972244267), ('evening', 0.16133704086478823), ('week', 0.15799107375739052), ('feet', 0.15580144422084483), ('september', 0.15441996791298945), ('god', 0.14957124103663047), ('december', 0.14721811337362947), ('daughter', 0.14360852170418287), ('months', 0.1401700887913454), ('century', 0.13591194433400464), ('january', 0.12613000977126873), ('increase', 0.12547810922836125), ('october', 0.11780335721125343), ('years', 0.1062083993892544), ('february', 0.09825284731650293), ('november', 0.09128981388186869), ('june', 0.05108255677008201), ('april', 0.0)]\n"
     ]
    }
   ],
   "source": [
    "# Eucliedean distance\n",
    "\n",
    "euclidean_dists = []\n",
    "eucli_scores = []\n",
    "for start_final_embed in sf_embeddings:\n",
    "    ed = euclidean_dist(start_final_embed[0], start_final_embed[1])\n",
    "    eucli_scores.append(ed)\n",
    "\n",
    "normalized_eucli_scores = normalize(eucli_scores)\n",
    "\n",
    "for i, score in enumerate(normalized_eucli_scores):\n",
    "    euclidean_dists.append((words[i], score))\n",
    "\n",
    "euclidean_dists = sorted(euclidean_dists, key=operator.itemgetter(1), reverse=True)\n",
    "\n",
    "most_change = euclidean_dists[:20]\n",
    "least_change = euclidean_dists[-20:]\n",
    "\n",
    "print(most_change)\n",
    "print(least_change)\n",
    "\n",
    "eucli_reorder = np.zeros((2000, 3000))\n",
    "\n",
    "for i, (word, score) in enumerate(euclidean_dists):\n",
    "    eucli_reorder[i] = np.asarray(embeddings[words.index(word)]).reshape(3000)"
   ]
  },
  {
   "cell_type": "code",
   "execution_count": 73,
   "metadata": {},
   "outputs": [
    {
     "data": {
      "text/plain": [
       "array([[1.        , 0.02831613, 0.5722136 ],\n",
       "       [0.02831613, 1.        , 0.02433646],\n",
       "       [0.5722136 , 0.02433646, 1.        ]])"
      ]
     },
     "execution_count": 73,
     "metadata": {},
     "output_type": "execute_result"
    }
   ],
   "source": [
    "pearson_mat = np.zeros((3, 3))\n",
    "reorders = [cosine_reorder, lnd_reorder, eucli_reorder]\n",
    "\n",
    "for i in range(3):\n",
    "    for j in range(3):\n",
    "        pearson_mat[i, j] = pearsonr(reorders[i].reshape(6000000), reorders[j].reshape(6000000))[0]\n",
    "    \n",
    "pearson_mat"
   ]
  },
  {
   "cell_type": "code",
   "execution_count": 74,
   "metadata": {},
   "outputs": [
    {
     "name": "stdout",
     "output_type": "stream",
     "text": [
      "average scores for cosine: 0.5285829030261675\n",
      "average scores for local_neighbourhood_dist: 0.08709592835416816\n",
      "average scores for euclidean_dist: 0.4736040542331469\n"
     ]
    }
   ],
   "source": [
    "# get average of the words that have changed the most from papers and get the average\n",
    "changed_words = set(['recording', 'gay', 'tape', 'checking', 'diet', 'sex', 'bitch', 'plastic', 'transmitted', 'hug', 'windows', 'bush', 'apple', 'sink', 'click', 'handle', 'fatal', 'awful', 'nice', 'broadcast', 'monitor', 'record', 'guy', 'call'\n",
    ",'wanting', 'check', 'starting', 'major', 'actually', 'touching', 'harry', 'headed', 'romance', 'know', 'got', 'would', 'decided', 'think', 'stop', 'remember', 'started', 'must', 'wanted', \n",
    "'harry', 'headed', 'calls', 'gay', 'wherever', 'male', 'actually', 'special', 'cover', 'naturally', 'peck', 'honey'])\n",
    "\n",
    "words_found = []\n",
    "for w in changed_words:\n",
    "    if w in words:\n",
    "        words_found.append(w)\n",
    "\n",
    "distance_metrics = [cosine_dists, local_neighbourhood_dists, euclidean_dists]\n",
    "\n",
    "scores = []\n",
    "for distance_metric in distance_metrics:\n",
    "    score = []\n",
    "    for word_tuple in distance_metric:\n",
    "        for top_word in words_found:\n",
    "            if top_word == word_tuple[0]:\n",
    "                score.append(word_tuple[1])\n",
    "    scores.append(sum(score) / len(score))\n",
    "\n",
    "distance_metrics_texts = ['cosine', 'local_neighbourhood_dist', 'euclidean_dist']\n",
    "for i in range(3):\n",
    "    print(f\"average scores for {distance_metrics_texts[i]}: {scores[i]}\")"
   ]
  },
  {
   "cell_type": "code",
   "execution_count": 75,
   "metadata": {},
   "outputs": [],
   "source": [
    "def min_max_scale(sim_score):\n",
    "    return (sim_score - 1) / 3\n",
    "\n",
    "def parse_row(row):\n",
    "    dict = {}\n",
    "    dict[\"word\"] = row[\"lemma\"].strip().lower()\n",
    "    dict[\"start\"] = int(row[\"time_b\"][2])\n",
    "    dict[\"end\"] = int(row[\"time_a\"][2])\n",
    "\n",
    "    sim_scores = row[\"sim_score\"].split('\\n')\n",
    "    sim_scores = [int(x) for x in sim_scores]\n",
    "    avg_sim_scores = sum(sim_scores) / len(sim_scores)\n",
    "    dict[\"avg_sim_score\"] = min_max_scale(avg_sim_scores)\n",
    "\n",
    "    return dict\n",
    "    "
   ]
  },
  {
   "cell_type": "code",
   "execution_count": 76,
   "metadata": {},
   "outputs": [
    {
     "name": "stdout",
     "output_type": "stream",
     "text": [
      "new words found: {'mirror', 'card', 'signal', 'energy', 'sphere'}\n"
     ]
    }
   ],
   "source": [
    "df = pd.read_csv('DUPS/aggregate.csv')\n",
    "\n",
    "index_arr = []\n",
    "avg_distance_arr = []\n",
    "new_word_set = set()\n",
    "\n",
    "for index, row in df.iterrows():\n",
    "    parsed = parse_row(row)\n",
    "    if parsed['word'] in words:\n",
    "        if parsed['word'] not in new_word_set:\n",
    "            new_word_set.add(parsed['word'])\n",
    "        index_arr.append((words.index(parsed['word']), parsed['start'], parsed['end']))\n",
    "        avg_distance_arr.append(1 - float( parsed['avg_sim_score']))\n",
    "\n",
    "\n",
    "print(f\"new words found: {new_word_set}\")"
   ]
  },
  {
   "cell_type": "code",
   "execution_count": 87,
   "metadata": {},
   "outputs": [],
   "source": [
    "dist_funcs = [cosine_distance_func, local_neighbourhood_dist, euclidean_dist]\n",
    "dist_arrs = [[], [], []]\n",
    "\n",
    "for (index, start, end) in index_arr:\n",
    "    start_vec, end_vec = embeddings[index, start], embeddings[index, end]\n",
    "\n",
    "    for i, func in enumerate(dist_funcs):\n",
    "        if i == 1:\n",
    "            dist_arrs[i].append(func(start_vec, end_vec, neighbours, flattened_embeddings))\n",
    "        else:\n",
    "            dist_arrs[i].append(func(start_vec, end_vec))"
   ]
  },
  {
   "cell_type": "code",
   "execution_count": 91,
   "metadata": {},
   "outputs": [
    {
     "name": "stdout",
     "output_type": "stream",
     "text": [
      "pearson stats for cosine_dist: -0.004801047741891668\n",
      "pearson stats for local_neighbourhood_dist: 0.015169106676668346\n",
      "pearson stats for euclidean_dist: -0.006921076690807385\n"
     ]
    }
   ],
   "source": [
    "distance_metrics_texts = ['cosine_dist', 'local_neighbourhood_dist', 'euclidean_dist']\n",
    "\n",
    "for i, arr in enumerate(dist_arrs):\n",
    "    pearson = pearsonr(arr, avg_distance_arr)\n",
    "    print(f\"pearson stats for {distance_metrics_texts[i]}: {pearson[0]}\")"
   ]
  },
  {
   "cell_type": "code",
   "execution_count": 90,
   "metadata": {},
   "outputs": [
    {
     "data": {
      "image/png": "[encoded data removed]",
      "text/plain": [
       "<Figure size 432x288 with 1 Axes>"
      ]
     },
     "metadata": {
      "needs_background": "light"
     },
     "output_type": "display_data"
    }
   ],
   "source": [
    "# best measure is probably cosine distance\n",
    "\n",
    "import matplotlib.pyplot as plt\n",
    "\n",
    "best_words = ['techniques', 'skills', 'mcgraw']\n",
    "\n",
    "cosine_dists = np.zeros((3, 9))\n",
    "\n",
    "for i, word in enumerate(best_words):\n",
    "    idx = words.index(word)\n",
    "    embed = embeddings[idx]\n",
    "\n",
    "    for j in range(9):\n",
    "        cosine_dists[i, j] = 1 - cosine_sim(embed[j], embed[j+1])\n",
    "\n",
    "plt.figure()\n",
    "\n",
    "for i in range(3):\n",
    "    plt.plot(np.arange(9), cosine_dists[i], label=best_words[i])\n",
    "\n",
    "plt.xlabel(\"decades\")\n",
    "plt.ylabel(\"cosine distance over each decade\")\n",
    "\n",
    "plt.legend()\n",
    "plt.savefig(\"cs_decades\")\n",
    "plt.show()"
   ]
  },
  {
   "cell_type": "code",
   "execution_count": 92,
   "metadata": {},
   "outputs": [
    {
     "data": {
      "image/png": "[encoded data removed]",
      "text/plain": [
       "<Figure size 432x288 with 1 Axes>"
      ]
     },
     "metadata": {
      "needs_background": "light"
     },
     "output_type": "display_data"
    }
   ],
   "source": [
    "best_words = ['techniques', 'skills', 'mcgraw']\n",
    "\n",
    "lnd_dists = np.zeros((3, 9))\n",
    "\n",
    "for i, word in enumerate(best_words):\n",
    "    idx = words.index(word)\n",
    "    embed = embeddings[idx]\n",
    "\n",
    "    for j in range(9):\n",
    "        lnd_dists[i, j] = local_neighbourhood_dist(embed[j], embed[j+1], neighbours, flattened_embeddings)\n",
    "\n",
    "plt.figure()\n",
    "\n",
    "for i in range(3):\n",
    "    plt.plot(np.arange(9), lnd_dists[i], label=best_words[i])\n",
    "\n",
    "plt.xlabel(\"decades\")\n",
    "plt.ylabel(\"lnd distance over each decade\")\n",
    "\n",
    "plt.legend()\n",
    "plt.savefig(\"lnd_decades\")\n",
    "plt.show()"
   ]
  }
 ],
 "metadata": {
  "kernelspec": {
   "display_name": "Python 3.12.0",
   "language": "python",
   "name": "python3"
  },
  "language_info": {
   "codemirror_mode": {
    "name": "ipython",
    "version": 3
   },
   "file_extension": ".py",
   "mimetype": "text/x-python",
   "name": "python",
   "nbconvert_exporter": "python",
   "pygments_lexer": "ipython3",
   "version": "3.12.0"
  },
  "orig_nbformat": 4,
  "vscode": {
   "interpreter": {
    "hash": "6014ccf4afa0b85771f484eae679e8248422d3fc19a6d2e10353b8c98042d40e"
   }
  }
 },
 "nbformat": 4,
 "nbformat_minor": 2
}
